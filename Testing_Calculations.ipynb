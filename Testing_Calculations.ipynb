{
  "nbformat": 4,
  "nbformat_minor": 0,
  "metadata": {
    "colab": {
      "name": "Testing_Calculations.ipynb",
      "provenance": [],
      "authorship_tag": "ABX9TyMJyqRo5EkxU9GZ86LNiL97",
      "include_colab_link": true
    },
    "kernelspec": {
      "name": "python3",
      "display_name": "Python 3"
    }
  },
  "cells": [
    {
      "cell_type": "markdown",
      "metadata": {
        "id": "view-in-github",
        "colab_type": "text"
      },
      "source": [
        "<a href=\"https://colab.research.google.com/github/waltherwj/Tensorflow2-lectures/blob/master/Testing_Calculations.ipynb\" target=\"_parent\"><img src=\"https://colab.research.google.com/assets/colab-badge.svg\" alt=\"Open In Colab\"/></a>"
      ]
    },
    {
      "cell_type": "code",
      "metadata": {
        "id": "b-JBgvA2NfK1",
        "colab_type": "code",
        "colab": {}
      },
      "source": [
        "%tensorflow_version 2.x\n",
        "import tensorflow as tf"
      ],
      "execution_count": 0,
      "outputs": []
    },
    {
      "cell_type": "code",
      "metadata": {
        "id": "njqGJCVVNlEG",
        "colab_type": "code",
        "colab": {
          "base_uri": "https://localhost:8080/",
          "height": 34
        },
        "outputId": "e632612f-f9c9-47f0-ba1e-853423046d62"
      },
      "source": [
        "a = tf.constant(3.0)\n",
        "b = tf.constant(4.0)\n",
        "\n",
        "c = tf.sqrt(a**2 + b**2)\n",
        "print(\"c: \", c)"
      ],
      "execution_count": 5,
      "outputs": [
        {
          "output_type": "stream",
          "text": [
            "c:  tf.Tensor(5.0, shape=(), dtype=float32)\n"
          ],
          "name": "stdout"
        }
      ]
    },
    {
      "cell_type": "code",
      "metadata": {
        "id": "U90GeNq8N7q6",
        "colab_type": "code",
        "colab": {
          "base_uri": "https://localhost:8080/",
          "height": 34
        },
        "outputId": "c7dac103-372c-4c19-b42d-317c6cbe16fb"
      },
      "source": [
        "print(f\"c: {c}\")"
      ],
      "execution_count": 6,
      "outputs": [
        {
          "output_type": "stream",
          "text": [
            "c: 5.0\n"
          ],
          "name": "stdout"
        }
      ]
    },
    {
      "cell_type": "code",
      "metadata": {
        "id": "w3ep-DrlOH_T",
        "colab_type": "code",
        "colab": {
          "base_uri": "https://localhost:8080/",
          "height": 34
        },
        "outputId": "68d2c678-e4ef-4b01-97c5-9b671d2b8c7a"
      },
      "source": [
        "c.numpy()"
      ],
      "execution_count": 7,
      "outputs": [
        {
          "output_type": "execute_result",
          "data": {
            "text/plain": [
              "5.0"
            ]
          },
          "metadata": {
            "tags": []
          },
          "execution_count": 7
        }
      ]
    },
    {
      "cell_type": "code",
      "metadata": {
        "id": "MwTcxAXnOOJP",
        "colab_type": "code",
        "colab": {
          "base_uri": "https://localhost:8080/",
          "height": 34
        },
        "outputId": "d71d060b-0691-411e-d5a7-e29858f674e0"
      },
      "source": [
        "type(c.numpy())"
      ],
      "execution_count": 8,
      "outputs": [
        {
          "output_type": "execute_result",
          "data": {
            "text/plain": [
              "numpy.float32"
            ]
          },
          "metadata": {
            "tags": []
          },
          "execution_count": 8
        }
      ]
    },
    {
      "cell_type": "code",
      "metadata": {
        "id": "VSBZBqQtOSWn",
        "colab_type": "code",
        "colab": {
          "base_uri": "https://localhost:8080/",
          "height": 34
        },
        "outputId": "6997e161-27c4-42bc-e040-c052010f6558"
      },
      "source": [
        "a = tf.constant([1,2,3])\n",
        "b = tf.constant([4,5,6])\n",
        "c = tf.tensordot(a,b, axes = [0,0])\n",
        "\n",
        "print(f\"c: {c}\")"
      ],
      "execution_count": 14,
      "outputs": [
        {
          "output_type": "stream",
          "text": [
            "c: 32\n"
          ],
          "name": "stdout"
        }
      ]
    },
    {
      "cell_type": "code",
      "metadata": {
        "id": "5iQm8MVAO7DD",
        "colab_type": "code",
        "colab": {
          "base_uri": "https://localhost:8080/",
          "height": 34
        },
        "outputId": "f8ad38f2-9240-42b9-b83d-0b67b0025430"
      },
      "source": [
        "a.numpy().dot(b.numpy())"
      ],
      "execution_count": 15,
      "outputs": [
        {
          "output_type": "execute_result",
          "data": {
            "text/plain": [
              "32"
            ]
          },
          "metadata": {
            "tags": []
          },
          "execution_count": 15
        }
      ]
    },
    {
      "cell_type": "code",
      "metadata": {
        "id": "N-S0WlZfO-14",
        "colab_type": "code",
        "colab": {
          "base_uri": "https://localhost:8080/",
          "height": 68
        },
        "outputId": "88e0b2fa-ec7f-4729-a381-d98d69a79e91"
      },
      "source": [
        "import numpy as np\n",
        "A0 = np.random.randn(3,3)\n",
        "A1 = np.random.randn(3,1)\n",
        "c0 = A0.dot(A1)\n",
        "#print(A0)\n",
        "print(f'c0: {c0}')"
      ],
      "execution_count": 20,
      "outputs": [
        {
          "output_type": "stream",
          "text": [
            "c0: [[0.29210596]\n",
            " [3.17313566]\n",
            " [1.4407773 ]]\n"
          ],
          "name": "stdout"
        }
      ]
    },
    {
      "cell_type": "code",
      "metadata": {
        "id": "4CFRKurlPaOt",
        "colab_type": "code",
        "colab": {
          "base_uri": "https://localhost:8080/",
          "height": 68
        },
        "outputId": "8e39d808-3be7-46b7-8ffb-683bb177dfe9"
      },
      "source": [
        "A=tf.constant(A0)\n",
        "B=tf.constant(A1)\n",
        "\n",
        "c1 = tf.matmul(A,B)\n",
        "\n",
        "print(f\"c1: {c1}\")"
      ],
      "execution_count": 22,
      "outputs": [
        {
          "output_type": "stream",
          "text": [
            "c1: [[0.29210596]\n",
            " [3.17313566]\n",
            " [1.4407773 ]]\n"
          ],
          "name": "stdout"
        }
      ]
    },
    {
      "cell_type": "code",
      "metadata": {
        "id": "5MVXNOYgPt8j",
        "colab_type": "code",
        "colab": {
          "base_uri": "https://localhost:8080/",
          "height": 51
        },
        "outputId": "359fc9e3-b434-4e65-ed9c-61fe7eeea749"
      },
      "source": [
        "#element wise multiplication\n",
        "\n",
        "a=tf.constant([[1,2],[3,4]])\n",
        "b=tf.constant([[1,2],[3,4]])\n",
        "\n",
        "cl=a*b\n",
        "\n",
        "print(f\"cl: {cl}\")"
      ],
      "execution_count": 23,
      "outputs": [
        {
          "output_type": "stream",
          "text": [
            "cl: [[ 1  4]\n",
            " [ 9 16]]\n"
          ],
          "name": "stdout"
        }
      ]
    },
    {
      "cell_type": "code",
      "metadata": {
        "id": "xsAIR0aqQYkv",
        "colab_type": "code",
        "outputId": "5e5bbe8b-9eac-4459-be25-8fb110f9420d",
        "colab": {
          "base_uri": "https://localhost:8080/",
          "height": 180
        }
      },
      "source": [
        "a = (1,2,3)\n",
        "a[0] = 5"
      ],
      "execution_count": 0,
      "outputs": [
        {
          "output_type": "error",
          "ename": "TypeError",
          "evalue": "ignored",
          "traceback": [
            "\u001b[0;31m---------------------------------------------------------------------------\u001b[0m",
            "\u001b[0;31mTypeError\u001b[0m                                 Traceback (most recent call last)",
            "\u001b[0;32m<ipython-input-24-0e96911569be>\u001b[0m in \u001b[0;36m<module>\u001b[0;34m()\u001b[0m\n\u001b[1;32m      1\u001b[0m \u001b[0ma\u001b[0m \u001b[0;34m=\u001b[0m \u001b[0;34m(\u001b[0m\u001b[0;36m1\u001b[0m\u001b[0;34m,\u001b[0m\u001b[0;36m2\u001b[0m\u001b[0;34m,\u001b[0m\u001b[0;36m3\u001b[0m\u001b[0;34m)\u001b[0m\u001b[0;34m\u001b[0m\u001b[0;34m\u001b[0m\u001b[0m\n\u001b[0;32m----> 2\u001b[0;31m \u001b[0ma\u001b[0m\u001b[0;34m[\u001b[0m\u001b[0;36m0\u001b[0m\u001b[0;34m]\u001b[0m \u001b[0;34m=\u001b[0m \u001b[0;36m5\u001b[0m\u001b[0;34m\u001b[0m\u001b[0;34m\u001b[0m\u001b[0m\n\u001b[0m",
            "\u001b[0;31mTypeError\u001b[0m: 'tuple' object does not support item assignment"
          ]
        }
      ]
    },
    {
      "cell_type": "code",
      "metadata": {
        "id": "tJwnvrz_SVuK",
        "colab_type": "code",
        "colab": {
          "base_uri": "https://localhost:8080/",
          "height": 34
        },
        "outputId": "717d845d-2e53-4211-d147-ad8180213ef3"
      },
      "source": [
        "a = [1,2,3]\n",
        "a[0] = 5\n",
        "print(a)"
      ],
      "execution_count": 25,
      "outputs": [
        {
          "output_type": "stream",
          "text": [
            "[5, 2, 3]\n"
          ],
          "name": "stdout"
        }
      ]
    },
    {
      "cell_type": "code",
      "metadata": {
        "id": "uO5BnvT8Sa22",
        "colab_type": "code",
        "colab": {
          "base_uri": "https://localhost:8080/",
          "height": 34
        },
        "outputId": "874bdceb-9814-43ec-bdff-2f4910f45626"
      },
      "source": [
        "a = tf.Variable(5.)\n",
        "b = tf.Variable(3.)\n",
        "print(a*b)"
      ],
      "execution_count": 28,
      "outputs": [
        {
          "output_type": "stream",
          "text": [
            "tf.Tensor(15.0, shape=(), dtype=float32)\n"
          ],
          "name": "stdout"
        }
      ]
    },
    {
      "cell_type": "code",
      "metadata": {
        "id": "xkFK20WISoIr",
        "colab_type": "code",
        "colab": {
          "base_uri": "https://localhost:8080/",
          "height": 34
        },
        "outputId": "b7d713f3-c9ca-4667-bd89-fb63a2a3fcd7"
      },
      "source": [
        "a.assign(a+1)"
      ],
      "execution_count": 29,
      "outputs": [
        {
          "output_type": "execute_result",
          "data": {
            "text/plain": [
              "<tf.Variable 'UnreadVariable' shape=() dtype=float32, numpy=6.0>"
            ]
          },
          "metadata": {
            "tags": []
          },
          "execution_count": 29
        }
      ]
    },
    {
      "cell_type": "code",
      "metadata": {
        "id": "5FmHvYk9Sr8u",
        "colab_type": "code",
        "colab": {
          "base_uri": "https://localhost:8080/",
          "height": 34
        },
        "outputId": "19acdea8-51d4-4117-d869-fb719094b01f"
      },
      "source": [
        "c = tf.constant(4.)\n",
        "print(a*b*c)"
      ],
      "execution_count": 30,
      "outputs": [
        {
          "output_type": "stream",
          "text": [
            "tf.Tensor(72.0, shape=(), dtype=float32)\n"
          ],
          "name": "stdout"
        }
      ]
    },
    {
      "cell_type": "code",
      "metadata": {
        "id": "93LVXPOsS3jB",
        "colab_type": "code",
        "colab": {}
      },
      "source": [
        "# L(W) = w**2\n",
        "\n",
        "w= tf.Variable(5.)\n",
        "\n",
        "def get_loss(w):\n",
        "  return w**2\n",
        "\n",
        "def get_grad(w):\n",
        "  with tf.GradientTape() as tape:\n",
        "    L = get_loss(w)\n",
        "  g = tape.gradient(L,w)\n",
        "  return g\n",
        "\n",
        "optimizer = tf.keras.optimizers.SGD(learning_rate = 0.1)\n",
        "\n",
        "losses = []\n",
        "\n",
        "for i in range(50):\n",
        "  g = get_grad(w)\n",
        "  optimizer.apply_gradients(zip([g], [w]))\n",
        "  losses.append(get_loss(w))\n"
      ],
      "execution_count": 0,
      "outputs": []
    },
    {
      "cell_type": "code",
      "metadata": {
        "id": "dBfOn0LkUewR",
        "colab_type": "code",
        "colab": {
          "base_uri": "https://localhost:8080/",
          "height": 282
        },
        "outputId": "02b76aa1-f620-4700-d4fd-de1ac490f406"
      },
      "source": [
        "import matplotlib.pyplot as plt\n",
        "plt.plot(losses)\n",
        "print(f\"Final Loss: {get_loss(w)}\")"
      ],
      "execution_count": 34,
      "outputs": [
        {
          "output_type": "stream",
          "text": [
            "Final Loss: 5.0925916816879635e-09\n"
          ],
          "name": "stdout"
        },
        {
          "output_type": "display_data",
          "data": {
            "image/png": "[encoded data removed]",
            "text/plain": [
              "<Figure size 432x288 with 1 Axes>"
            ]
          },
          "metadata": {
            "tags": [],
            "needs_background": "light"
          }
        }
      ]
    },
    {
      "cell_type": "code",
      "metadata": {
        "id": "weD6OfWQUpyQ",
        "colab_type": "code",
        "colab": {}
      },
      "source": [
        "w = tf.Variable(5.)\n",
        "losses2 = []\n",
        "\n",
        "for i in range(50):\n",
        "  w = w - 0.1*2*w\n",
        "  losses2.append(w**2)"
      ],
      "execution_count": 0,
      "outputs": []
    },
    {
      "cell_type": "code",
      "metadata": {
        "id": "5jB43dYVVMDm",
        "colab_type": "code",
        "colab": {
          "base_uri": "https://localhost:8080/",
          "height": 282
        },
        "outputId": "c507b9bf-da01-4cde-8fdf-48fd7d9e5401"
      },
      "source": [
        "plt.plot(losses2)"
      ],
      "execution_count": 37,
      "outputs": [
        {
          "output_type": "execute_result",
          "data": {
            "text/plain": [
              "[<matplotlib.lines.Line2D at 0x7fe988b4c550>]"
            ]
          },
          "metadata": {
            "tags": []
          },
          "execution_count": 37
        },
        {
          "output_type": "display_data",
          "data": {
            "image/png": "[encoded data removed]",
            "text/plain": [
              "<Figure size 432x288 with 1 Axes>"
            ]
          },
          "metadata": {
            "tags": [],
            "needs_background": "light"
          }
        }
      ]
    }
  ]
}